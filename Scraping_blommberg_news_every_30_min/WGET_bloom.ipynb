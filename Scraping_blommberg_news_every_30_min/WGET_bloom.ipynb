{
 "cells": [
  {
   "cell_type": "code",
   "execution_count": 1,
   "id": "6c78ab4c",
   "metadata": {},
   "outputs": [],
   "source": [
    "import subprocess\n",
    "\n",
    "def runcmd(cmd, verbose = False, *args, **kwargs):\n",
    "\n",
    "    process = subprocess.Popen(\n",
    "        cmd,\n",
    "        stdout = subprocess.PIPE, \n",
    "        stderr = subprocess.PIPE,\n",
    "        text = True, \n",
    "        shell = True\n",
    "    )\n",
    "    std_out, std_err = process.communicate()\n",
    "    if verbose:\n",
    "        print(std_out.strip(), std_err)\n",
    "    pass"
   ]
  },
  {
   "cell_type": "code",
   "execution_count": 24,
   "id": "bb9a40ef",
   "metadata": {},
   "outputs": [],
   "source": [
    "from datetime import date,datetime"
   ]
  },
  {
   "cell_type": "code",
   "execution_count": 31,
   "id": "74e471a5",
   "metadata": {},
   "outputs": [
    {
     "name": "stdout",
     "output_type": "stream",
     "text": [
      " --2023-04-26 14:53:18--  https://www.bloomberg.com/feeds/sitemap_news.xml\n",
      "Resolving www.bloomberg.com (www.bloomberg.com)... 151.101.1.73, 151.101.65.73, 151.101.129.73, ...\n",
      "Connecting to www.bloomberg.com (www.bloomberg.com)|151.101.1.73|:443... connected.\n",
      "HTTP request sent, awaiting response... 200 OK\n",
      "Length: 569217 (556K) [application/xml]\n",
      "Saving to: 'sitemap_news_2023-04-26__14_53.xml'\n",
      "\n",
      "     0K .......... .......... .......... .......... ..........  8%  269K 2s\n",
      "    50K .......... .......... .......... .......... .......... 17% 14.1M 1s\n",
      "   100K .......... .......... .......... .......... .......... 26% 1021K 1s\n",
      "   150K .......... .......... .......... .......... .......... 35% 1.41M 0s\n",
      "   200K .......... .......... .......... .......... .......... 44% 1.35M 0s\n",
      "   250K .......... .......... .......... .......... .......... 53% 1.67M 0s\n",
      "   300K .......... .......... .......... .......... .......... 62% 1.99M 0s\n",
      "   350K .......... .......... .......... .......... .......... 71%  732K 0s\n",
      "   400K .......... .......... .......... .......... .......... 80% 2.05M 0s\n",
      "   450K .......... .......... .......... .......... .......... 89% 1.84M 0s\n",
      "   500K .......... .......... .......... .......... .......... 98%  969K 0s\n",
      "   550K .....                                                 100% 6.91M=0.5s\n",
      "\n",
      "2023-04-26 14:53:20 (1.02 MB/s) - 'sitemap_news_2023-04-26__14_53.xml' saved [569217/569217]\n",
      "\n",
      "\n"
     ]
    }
   ],
   "source": [
    "today = date.today()\n",
    "now = datetime.now()\n",
    "current_time = now.strftime(\"%H_%M\")\n",
    "runcmd(f\"wget -O sitemap_news_{today}__{current_time}.xml https://www.bloomberg.com/feeds/sitemap_news.xml\", verbose = True)"
   ]
  }
 ],
 "metadata": {
  "kernelspec": {
   "display_name": "Python 3 (ipykernel)",
   "language": "python",
   "name": "python3"
  },
  "language_info": {
   "codemirror_mode": {
    "name": "ipython",
    "version": 3
   },
   "file_extension": ".py",
   "mimetype": "text/x-python",
   "name": "python",
   "nbconvert_exporter": "python",
   "pygments_lexer": "ipython3",
   "version": "3.9.13"
  }
 },
 "nbformat": 4,
 "nbformat_minor": 5
}
