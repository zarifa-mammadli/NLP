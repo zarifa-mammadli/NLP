{
 "cells": [
  {
   "cell_type": "code",
   "execution_count": 1,
   "id": "2d4bdb70",
   "metadata": {},
   "outputs": [],
   "source": [
    "import requests\n",
    "from bs4 import BeautifulSoup\n",
    "import pandas as pd\n",
    "import datetime"
   ]
  },
  {
   "cell_type": "code",
   "execution_count": 30,
   "id": "f366b100",
   "metadata": {},
   "outputs": [],
   "source": [
    "with open('sitemap_news_2023-04-26__14_53.xml', 'r',encoding='utf-8') as file:\n",
    "    xml_content = file.read()"
   ]
  },
  {
   "cell_type": "code",
   "execution_count": 31,
   "id": "aa8f0717",
   "metadata": {},
   "outputs": [],
   "source": [
    "soup = BeautifulSoup(xml_content, 'xml')"
   ]
  },
  {
   "cell_type": "code",
   "execution_count": 32,
   "id": "6b4ab600",
   "metadata": {},
   "outputs": [],
   "source": [
    "urls = soup.find_all(\"url\")\n",
    "\n",
    "data = []\n",
    "for url in urls:\n",
    "    loc = url.loc.text\n",
    "    title = url.find(\"news:title\").text\n",
    "    publication_date = url.find(\"news:publication_date\").text[:10]\n",
    "    publication_time = url.find(\"news:publication_date\").text[11:19]\n",
    "    image_loc_tag = url.find(\"image:loc\")\n",
    "    if image_loc_tag is not None:\n",
    "        image_loc = image_loc_tag.text\n",
    "    today = str(datetime.date.today())\n",
    "    if publication_date == today:\n",
    "    \n",
    "        row_data = {\n",
    "            \"URL\": loc,\n",
    "            \"Title\": title,\n",
    "            \"Publication Date\": publication_date,\n",
    "            \"Publication Time\": publication_time,\n",
    "            \"Image URL\": image_loc,\n",
    "        }\n",
    "        data.append(row_data)\n",
    "        \n",
    "df = pd.DataFrame(data)\n"
   ]
  },
  {
   "cell_type": "code",
   "execution_count": 35,
   "id": "ae185ced",
   "metadata": {},
   "outputs": [],
   "source": [
    "df.to_csv('sitemap_news_2023-04-26__14_53.csv')"
   ]
  },
  {
   "cell_type": "code",
   "execution_count": 2,
   "id": "58e77f89",
   "metadata": {},
   "outputs": [],
   "source": [
    "data1=pd.read_csv(r'sitemap_news_2023-04-26__13_22.csv').drop('Unnamed: 0',axis=1)\n",
    "data2=pd.read_csv(r'sitemap_news_2023-04-26__13_53.csv').drop('Unnamed: 0',axis=1)\n",
    "data3=pd.read_csv(r'sitemap_news_2023-04-26__14_22.csv').drop('Unnamed: 0',axis=1)\n",
    "data4=pd.read_csv(r'sitemap_news_2023-04-26__14_53.csv').drop('Unnamed: 0',axis=1)"
   ]
  },
  {
   "cell_type": "code",
   "execution_count": 3,
   "id": "da55be9c",
   "metadata": {},
   "outputs": [],
   "source": [
    "new_count={\"Time\":['13:22',\"13:53\",\"14:22\",\"14:53\" ], \"Count\":[data1.shape[0],data2.shape[0],data3.shape[0],data4.shape[0]]}"
   ]
  },
  {
   "cell_type": "code",
   "execution_count": 4,
   "id": "11f5572f",
   "metadata": {},
   "outputs": [],
   "source": [
    "news_count = pd.DataFrame.from_dict(new_count)"
   ]
  },
  {
   "cell_type": "code",
   "execution_count": 5,
   "id": "f171127d",
   "metadata": {},
   "outputs": [
    {
     "data": {
      "text/html": [
       "<div>\n",
       "<style scoped>\n",
       "    .dataframe tbody tr th:only-of-type {\n",
       "        vertical-align: middle;\n",
       "    }\n",
       "\n",
       "    .dataframe tbody tr th {\n",
       "        vertical-align: top;\n",
       "    }\n",
       "\n",
       "    .dataframe thead th {\n",
       "        text-align: right;\n",
       "    }\n",
       "</style>\n",
       "<table border=\"1\" class=\"dataframe\">\n",
       "  <thead>\n",
       "    <tr style=\"text-align: right;\">\n",
       "      <th></th>\n",
       "      <th>Time</th>\n",
       "      <th>Count</th>\n",
       "    </tr>\n",
       "  </thead>\n",
       "  <tbody>\n",
       "    <tr>\n",
       "      <th>0</th>\n",
       "      <td>13:22</td>\n",
       "      <td>101</td>\n",
       "    </tr>\n",
       "    <tr>\n",
       "      <th>1</th>\n",
       "      <td>13:53</td>\n",
       "      <td>115</td>\n",
       "    </tr>\n",
       "    <tr>\n",
       "      <th>2</th>\n",
       "      <td>14:22</td>\n",
       "      <td>130</td>\n",
       "    </tr>\n",
       "    <tr>\n",
       "      <th>3</th>\n",
       "      <td>14:53</td>\n",
       "      <td>141</td>\n",
       "    </tr>\n",
       "  </tbody>\n",
       "</table>\n",
       "</div>"
      ],
      "text/plain": [
       "    Time  Count\n",
       "0  13:22    101\n",
       "1  13:53    115\n",
       "2  14:22    130\n",
       "3  14:53    141"
      ]
     },
     "execution_count": 5,
     "metadata": {},
     "output_type": "execute_result"
    }
   ],
   "source": [
    "news_count"
   ]
  },
  {
   "cell_type": "code",
   "execution_count": 6,
   "id": "e7249362",
   "metadata": {},
   "outputs": [],
   "source": [
    "old=set(data1['Title'])\n",
    "new=set(data2['Title'])\n",
    "\n",
    "old1=set(data2['Title'])\n",
    "new1=set(data3['Title'])\n",
    "\n",
    "old2=set(data3['Title'])\n",
    "new2=set(data4['Title'])"
   ]
  },
  {
   "cell_type": "code",
   "execution_count": 7,
   "id": "ca1e1d18",
   "metadata": {},
   "outputs": [],
   "source": [
    "dif_old = old.difference(new)\n",
    "dif_old1 = old1.difference(new1)\n",
    "dif_old2 = old2.difference(new2)"
   ]
  },
  {
   "cell_type": "code",
   "execution_count": 8,
   "id": "24546d96",
   "metadata": {},
   "outputs": [],
   "source": [
    "dif_new = new.difference(old)\n",
    "dif_new1 = new1.difference(old1)\n",
    "dif_new2 = new2.difference(old2)"
   ]
  },
  {
   "cell_type": "code",
   "execution_count": 9,
   "id": "4fdb1937",
   "metadata": {},
   "outputs": [],
   "source": [
    "inter = old.intersection(new)\n",
    "inter1 = old1.intersection(new1)\n",
    "inter2 = old2.intersection(new2)"
   ]
  },
  {
   "cell_type": "code",
   "execution_count": 10,
   "id": "cb7bed3d",
   "metadata": {},
   "outputs": [],
   "source": [
    "comp={\"Time\":['13_22 - 13_53', '13_53 - 14_22', '14_22 - 14_53'],\"NEW\": [len(dif_new),len(dif_new1),len(dif_new2)],\"SAME\":[len(inter),len(inter1),len(inter2)],\"EXCLUDED\":[len(dif_old),len(dif_old1),len(dif_old2)]}"
   ]
  },
  {
   "cell_type": "code",
   "execution_count": 11,
   "id": "75352fb7",
   "metadata": {},
   "outputs": [],
   "source": [
    "news_compare = pd.DataFrame.from_dict(comp)"
   ]
  },
  {
   "cell_type": "code",
   "execution_count": 12,
   "id": "d00c8712",
   "metadata": {},
   "outputs": [
    {
     "data": {
      "text/html": [
       "<div>\n",
       "<style scoped>\n",
       "    .dataframe tbody tr th:only-of-type {\n",
       "        vertical-align: middle;\n",
       "    }\n",
       "\n",
       "    .dataframe tbody tr th {\n",
       "        vertical-align: top;\n",
       "    }\n",
       "\n",
       "    .dataframe thead th {\n",
       "        text-align: right;\n",
       "    }\n",
       "</style>\n",
       "<table border=\"1\" class=\"dataframe\">\n",
       "  <thead>\n",
       "    <tr style=\"text-align: right;\">\n",
       "      <th></th>\n",
       "      <th>Time</th>\n",
       "      <th>NEW</th>\n",
       "      <th>SAME</th>\n",
       "      <th>EXCLUDED</th>\n",
       "    </tr>\n",
       "  </thead>\n",
       "  <tbody>\n",
       "    <tr>\n",
       "      <th>0</th>\n",
       "      <td>13_22 - 13_53</td>\n",
       "      <td>16</td>\n",
       "      <td>99</td>\n",
       "      <td>2</td>\n",
       "    </tr>\n",
       "    <tr>\n",
       "      <th>1</th>\n",
       "      <td>13_53 - 14_22</td>\n",
       "      <td>17</td>\n",
       "      <td>113</td>\n",
       "      <td>2</td>\n",
       "    </tr>\n",
       "    <tr>\n",
       "      <th>2</th>\n",
       "      <td>14_22 - 14_53</td>\n",
       "      <td>10</td>\n",
       "      <td>130</td>\n",
       "      <td>0</td>\n",
       "    </tr>\n",
       "  </tbody>\n",
       "</table>\n",
       "</div>"
      ],
      "text/plain": [
       "            Time  NEW  SAME  EXCLUDED\n",
       "0  13_22 - 13_53   16    99         2\n",
       "1  13_53 - 14_22   17   113         2\n",
       "2  14_22 - 14_53   10   130         0"
      ]
     },
     "execution_count": 12,
     "metadata": {},
     "output_type": "execute_result"
    }
   ],
   "source": [
    "news_compare"
   ]
  }
 ],
 "metadata": {
  "kernelspec": {
   "display_name": "Python 3 (ipykernel)",
   "language": "python",
   "name": "python3"
  },
  "language_info": {
   "codemirror_mode": {
    "name": "ipython",
    "version": 3
   },
   "file_extension": ".py",
   "mimetype": "text/x-python",
   "name": "python",
   "nbconvert_exporter": "python",
   "pygments_lexer": "ipython3",
   "version": "3.9.13"
  }
 },
 "nbformat": 4,
 "nbformat_minor": 5
}
